{
 "cells": [
  {
   "cell_type": "code",
   "execution_count": 1,
   "metadata": {},
   "outputs": [],
   "source": [
    "import pandas as pd\n",
    "import matplotlib.pyplot as plt\n",
    "import seaborn as sns\n",
    "import numpy as np\n",
    "from PIL import Image\n",
    "from matplotlib.pyplot import imshow\n",
    "import matplotlib.patches as patches\n",
    "import warnings\n",
    "warnings.filterwarnings('ignore')\n",
    "\n",
    "plt.style.use('seaborn-colorblind')\n",
    "\n",
    "import matplotlib\n",
    "matplotlib.rcParams['mathtext.fontset'] = 'cm'\n",
    "matplotlib.rcParams['font.family'] = 'STIXGeneral'\n",
    "fmt = ['-o', '-^', '-v', '-d', '-D', '-s', '-X', '-+', '-x', '-p', '-8', \n",
    "       '-.', '-*',\n",
    "       '-*', '-h', '-|', '-o']\n",
    "\n",
    "from matplotlib.colors import ListedColormap\n",
    "color = ListedColormap(sns.color_palette('colorblind', 15).as_hex())\n",
    "color = color(np.linspace(0, 1, 15))\n",
    "color[10] = [1, 0, 0, 1]\n",
    "sns.color_palette('colorblind', 15)"
   ]
  },
  {
   "cell_type": "code",
   "execution_count": 71,
   "metadata": {},
   "outputs": [
    {
     "data": {
      "image/png": "[encoded data removed]",
      "text/plain": [
       "<Figure size 720x216 with 1 Axes>"
      ]
     },
     "metadata": {
      "needs_background": "light"
     },
     "output_type": "display_data"
    }
   ],
   "source": [
    "import numpy as np\n",
    "import matplotlib.pyplot as plt\n",
    "  \n",
    "plt.figure(figsize=(10,  3))\n",
    "N = 7\n",
    "ind = np.arange(N) \n",
    "width = 0.25\n",
    "\n",
    "faster_rcnn_results_no_3d = [13.0, 24.8, 62.6, 62.0, 2.7, 24.7, 18.0]\n",
    "faster_rcnn_results_no_light = [30.8, 44.1, 77.0, 80.8, 6.1, 36.5, 32.3]\n",
    "faster_rcnn_results = [12.7, 24.6, 68.3, 62.0, 2.5, 24.7, 17.7]\n",
    "\n",
    "bar1 = plt.bar(ind, faster_rcnn_results, width)  \n",
    "bar2 = plt.bar(ind+width, faster_rcnn_results_no_3d, width)  \n",
    "bar3 = plt.bar(ind+width*2, faster_rcnn_results_no_light, width)\n",
    "\n",
    "plt.ylabel('Attack Success Rate')  \n",
    "plt.ylim(0, 100)\n",
    "plt.yticks(np.arange(0, 101, 10))\n",
    "plt.xticks(ind+width,['Circle', 'Triangle', 'Diamond (S)', 'Rectangle (S)', 'Octagon', 'Mean', 'Weighted Mean'])\n",
    "plt.legend( (bar1, bar2, bar3), ('Ours', 'No 3D', 'No Relight') )\n",
    "\n",
    "plt.tight_layout()\n",
    "plt.savefig('../paper_figures/faster_rcnn_attack_success_rate.png')\n",
    "plt.show();"
   ]
  },
  {
   "cell_type": "code",
   "execution_count": null,
   "metadata": {},
   "outputs": [],
   "source": []
  },
  {
   "cell_type": "code",
   "execution_count": null,
   "metadata": {},
   "outputs": [],
   "source": []
  },
  {
   "cell_type": "code",
   "execution_count": null,
   "metadata": {},
   "outputs": [],
   "source": []
  }
 ],
 "metadata": {
  "kernelspec": {
   "display_name": "Python 3.8.13 ('env_clone')",
   "language": "python",
   "name": "python3"
  },
  "language_info": {
   "codemirror_mode": {
    "name": "ipython",
    "version": 3
   },
   "file_extension": ".py",
   "mimetype": "text/x-python",
   "name": "python",
   "nbconvert_exporter": "python",
   "pygments_lexer": "ipython3",
   "version": "3.8.13"
  },
  "orig_nbformat": 4,
  "vscode": {
   "interpreter": {
    "hash": "ac9505ee9b99f2ba1c811af1549510475d556e9a81a285bb575b50a35f0e2d36"
   }
  }
 },
 "nbformat": 4,
 "nbformat_minor": 2
}
