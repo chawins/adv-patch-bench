{
 "cells": [
  {
   "cell_type": "code",
   "execution_count": 73,
   "metadata": {},
   "outputs": [],
   "source": [
    "import numpy as np\n",
    "import pandas as pd\n",
    "import os\n",
    "from ast import literal_eval\n",
    "import seaborn as sns\n",
    "import matplotlib.pyplot as plt"
   ]
  },
  {
   "cell_type": "code",
   "execution_count": 84,
   "metadata": {},
   "outputs": [
    {
     "data": {
      "text/html": [
       "<div>\n",
       "<style scoped>\n",
       "    .dataframe tbody tr th:only-of-type {\n",
       "        vertical-align: middle;\n",
       "    }\n",
       "\n",
       "    .dataframe tbody tr th {\n",
       "        vertical-align: top;\n",
       "    }\n",
       "\n",
       "    .dataframe thead th {\n",
       "        text-align: right;\n",
       "    }\n",
       "</style>\n",
       "<table border=\"1\" class=\"dataframe\">\n",
       "  <thead>\n",
       "    <tr style=\"text-align: right;\">\n",
       "      <th></th>\n",
       "      <th>fnr_octagon</th>\n",
       "      <th>num_octagon_labels</th>\n",
       "      <th>num_octagon_with_patch</th>\n",
       "      <th>fn_octagon</th>\n",
       "      <th>apply_patch</th>\n",
       "      <th>generate_patch</th>\n",
       "    </tr>\n",
       "  </thead>\n",
       "  <tbody>\n",
       "    <tr>\n",
       "      <th>2</th>\n",
       "      <td>0.206545</td>\n",
       "      <td>885.0</td>\n",
       "      <td>0.0</td>\n",
       "      <td>183.0</td>\n",
       "      <td>False</td>\n",
       "      <td>NaN</td>\n",
       "    </tr>\n",
       "    <tr>\n",
       "      <th>0</th>\n",
       "      <td>0.247797</td>\n",
       "      <td>885.0</td>\n",
       "      <td>571.0</td>\n",
       "      <td>219.0</td>\n",
       "      <td>True</td>\n",
       "      <td>real</td>\n",
       "    </tr>\n",
       "    <tr>\n",
       "      <th>4</th>\n",
       "      <td>0.275403</td>\n",
       "      <td>885.0</td>\n",
       "      <td>571.0</td>\n",
       "      <td>244.0</td>\n",
       "      <td>True</td>\n",
       "      <td>real</td>\n",
       "    </tr>\n",
       "  </tbody>\n",
       "</table>\n",
       "</div>"
      ],
      "text/plain": [
       "   fnr_octagon  num_octagon_labels  num_octagon_with_patch  fn_octagon  \\\n",
       "2     0.206545               885.0                     0.0       183.0   \n",
       "0     0.247797               885.0                   571.0       219.0   \n",
       "4     0.275403               885.0                   571.0       244.0   \n",
       "\n",
       "   apply_patch generate_patch  \n",
       "2        False            NaN  \n",
       "0         True           real  \n",
       "4         True           real  "
      ]
     },
     "execution_count": 84,
     "metadata": {},
     "output_type": "execute_result"
    }
   ],
   "source": [
    "df = pd.read_csv('../runs/results.csv')\n",
    "# df = pd.read_csv('../runs/results_.csv')\n",
    "df = df.replace({'apply_patch': 'True', 'random_patch': 'True'}, 1)\n",
    "df = df.replace({'apply_patch': 'False', 'random_patch': 'False'}, 0)\n",
    "for col in ['apply_patch', 'random_patch']:\n",
    "    df[col] = df[col].astype(float).astype(bool)\n",
    "\n",
    "df[['fnr_octagon', 'num_octagon_labels', 'num_octagon_with_patch', 'fn_octagon', 'apply_patch', 'generate_patch']].iloc[[2, 0, 4]]\n",
    "# df[['fnr_octagon', 'num_octagon_labels', 'num_octagon_with_patch', 'fn_octagon', 'apply_patch', 'generate_patch']]"
   ]
  },
  {
   "cell_type": "code",
   "execution_count": 85,
   "metadata": {},
   "outputs": [
    {
     "data": {
      "text/html": [
       "<div>\n",
       "<style scoped>\n",
       "    .dataframe tbody tr th:only-of-type {\n",
       "        vertical-align: middle;\n",
       "    }\n",
       "\n",
       "    .dataframe tbody tr th {\n",
       "        vertical-align: top;\n",
       "    }\n",
       "\n",
       "    .dataframe thead th {\n",
       "        text-align: right;\n",
       "    }\n",
       "</style>\n",
       "<table border=\"1\" class=\"dataframe\">\n",
       "  <thead>\n",
       "    <tr style=\"text-align: right;\">\n",
       "      <th></th>\n",
       "      <th>filename</th>\n",
       "      <th>obj_id</th>\n",
       "      <th>label_no_patch</th>\n",
       "      <th>correct_prediction_no_patch</th>\n",
       "      <th>sign_width</th>\n",
       "      <th>sign_height</th>\n",
       "      <th>confidence_no_patch</th>\n",
       "      <th>label_patch</th>\n",
       "      <th>correct_prediction_patch</th>\n",
       "      <th>confidence_patch</th>\n",
       "      <th>fn</th>\n",
       "      <th>avg_sign_dim</th>\n",
       "    </tr>\n",
       "  </thead>\n",
       "  <tbody>\n",
       "    <tr>\n",
       "      <th>614</th>\n",
       "      <td>-LtOhSguWQXyerbzUN6HpA.jpg</td>\n",
       "      <td>5.0</td>\n",
       "      <td>14.0</td>\n",
       "      <td>1</td>\n",
       "      <td>60.784359</td>\n",
       "      <td>56.862732</td>\n",
       "      <td>0.918845</td>\n",
       "      <td>14.0</td>\n",
       "      <td>0</td>\n",
       "      <td>0.238925</td>\n",
       "      <td>1</td>\n",
       "      <td>58.823545</td>\n",
       "    </tr>\n",
       "    <tr>\n",
       "      <th>130</th>\n",
       "      <td>-gSMw1gvzaUryheHPx00Zw.jpg</td>\n",
       "      <td>5.0</td>\n",
       "      <td>14.0</td>\n",
       "      <td>1</td>\n",
       "      <td>9.166687</td>\n",
       "      <td>26.388916</td>\n",
       "      <td>0.777415</td>\n",
       "      <td>14.0</td>\n",
       "      <td>0</td>\n",
       "      <td>0.345203</td>\n",
       "      <td>1</td>\n",
       "      <td>17.777802</td>\n",
       "    </tr>\n",
       "    <tr>\n",
       "      <th>127</th>\n",
       "      <td>04_G_l3AleUQWBSJ4_R8Hw.jpg</td>\n",
       "      <td>2.0</td>\n",
       "      <td>14.0</td>\n",
       "      <td>1</td>\n",
       "      <td>24.666655</td>\n",
       "      <td>118.000000</td>\n",
       "      <td>0.700801</td>\n",
       "      <td>14.0</td>\n",
       "      <td>0</td>\n",
       "      <td>0.130750</td>\n",
       "      <td>1</td>\n",
       "      <td>71.333327</td>\n",
       "    </tr>\n",
       "    <tr>\n",
       "      <th>606</th>\n",
       "      <td>056PRDIdH73i9SjAk2zT1w.jpg</td>\n",
       "      <td>6.0</td>\n",
       "      <td>14.0</td>\n",
       "      <td>1</td>\n",
       "      <td>99.215698</td>\n",
       "      <td>90.196106</td>\n",
       "      <td>0.913505</td>\n",
       "      <td>14.0</td>\n",
       "      <td>0</td>\n",
       "      <td>0.240098</td>\n",
       "      <td>1</td>\n",
       "      <td>94.705902</td>\n",
       "    </tr>\n",
       "    <tr>\n",
       "      <th>117</th>\n",
       "      <td>1ZVr4WwP3wSKYu16SLIvDg.jpg</td>\n",
       "      <td>2.0</td>\n",
       "      <td>14.0</td>\n",
       "      <td>1</td>\n",
       "      <td>22.745056</td>\n",
       "      <td>25.490204</td>\n",
       "      <td>0.865474</td>\n",
       "      <td>14.0</td>\n",
       "      <td>0</td>\n",
       "      <td>0.295811</td>\n",
       "      <td>1</td>\n",
       "      <td>24.117630</td>\n",
       "    </tr>\n",
       "    <tr>\n",
       "      <th>...</th>\n",
       "      <td>...</td>\n",
       "      <td>...</td>\n",
       "      <td>...</td>\n",
       "      <td>...</td>\n",
       "      <td>...</td>\n",
       "      <td>...</td>\n",
       "      <td>...</td>\n",
       "      <td>...</td>\n",
       "      <td>...</td>\n",
       "      <td>...</td>\n",
       "      <td>...</td>\n",
       "      <td>...</td>\n",
       "    </tr>\n",
       "    <tr>\n",
       "      <th>362</th>\n",
       "      <td>z615WCsFY5ZFmu4l5BADUw.jpg</td>\n",
       "      <td>2.0</td>\n",
       "      <td>14.0</td>\n",
       "      <td>1</td>\n",
       "      <td>46.999969</td>\n",
       "      <td>44.500000</td>\n",
       "      <td>0.933075</td>\n",
       "      <td>14.0</td>\n",
       "      <td>1</td>\n",
       "      <td>0.740166</td>\n",
       "      <td>0</td>\n",
       "      <td>45.749985</td>\n",
       "    </tr>\n",
       "    <tr>\n",
       "      <th>352</th>\n",
       "      <td>zTOpBElZV7sYDKSdAITHHw.jpg</td>\n",
       "      <td>0.0</td>\n",
       "      <td>14.0</td>\n",
       "      <td>1</td>\n",
       "      <td>62.352909</td>\n",
       "      <td>56.078430</td>\n",
       "      <td>0.911784</td>\n",
       "      <td>14.0</td>\n",
       "      <td>1</td>\n",
       "      <td>0.785951</td>\n",
       "      <td>0</td>\n",
       "      <td>59.215670</td>\n",
       "    </tr>\n",
       "    <tr>\n",
       "      <th>353</th>\n",
       "      <td>zUmpHOqZRnu2eAeUBQFWkQ.jpg</td>\n",
       "      <td>5.0</td>\n",
       "      <td>14.0</td>\n",
       "      <td>1</td>\n",
       "      <td>35.686279</td>\n",
       "      <td>38.039246</td>\n",
       "      <td>0.905545</td>\n",
       "      <td>14.0</td>\n",
       "      <td>1</td>\n",
       "      <td>0.830811</td>\n",
       "      <td>0</td>\n",
       "      <td>36.862762</td>\n",
       "    </tr>\n",
       "    <tr>\n",
       "      <th>354</th>\n",
       "      <td>zpOQfvo3deAc_qQK7yssjw.jpg</td>\n",
       "      <td>1.0</td>\n",
       "      <td>14.0</td>\n",
       "      <td>1</td>\n",
       "      <td>11.887549</td>\n",
       "      <td>11.566345</td>\n",
       "      <td>0.760282</td>\n",
       "      <td>14.0</td>\n",
       "      <td>1</td>\n",
       "      <td>0.760282</td>\n",
       "      <td>0</td>\n",
       "      <td>11.726947</td>\n",
       "    </tr>\n",
       "    <tr>\n",
       "      <th>769</th>\n",
       "      <td>zzhOz5HCLGgV390zmYjyjQ.jpg</td>\n",
       "      <td>0.0</td>\n",
       "      <td>14.0</td>\n",
       "      <td>1</td>\n",
       "      <td>50.476257</td>\n",
       "      <td>47.619080</td>\n",
       "      <td>0.907209</td>\n",
       "      <td>14.0</td>\n",
       "      <td>1</td>\n",
       "      <td>0.842121</td>\n",
       "      <td>0</td>\n",
       "      <td>49.047668</td>\n",
       "    </tr>\n",
       "  </tbody>\n",
       "</table>\n",
       "<p>702 rows × 12 columns</p>\n",
       "</div>"
      ],
      "text/plain": [
       "                       filename  obj_id  label_no_patch  \\\n",
       "614  -LtOhSguWQXyerbzUN6HpA.jpg     5.0            14.0   \n",
       "130  -gSMw1gvzaUryheHPx00Zw.jpg     5.0            14.0   \n",
       "127  04_G_l3AleUQWBSJ4_R8Hw.jpg     2.0            14.0   \n",
       "606  056PRDIdH73i9SjAk2zT1w.jpg     6.0            14.0   \n",
       "117  1ZVr4WwP3wSKYu16SLIvDg.jpg     2.0            14.0   \n",
       "..                          ...     ...             ...   \n",
       "362  z615WCsFY5ZFmu4l5BADUw.jpg     2.0            14.0   \n",
       "352  zTOpBElZV7sYDKSdAITHHw.jpg     0.0            14.0   \n",
       "353  zUmpHOqZRnu2eAeUBQFWkQ.jpg     5.0            14.0   \n",
       "354  zpOQfvo3deAc_qQK7yssjw.jpg     1.0            14.0   \n",
       "769  zzhOz5HCLGgV390zmYjyjQ.jpg     0.0            14.0   \n",
       "\n",
       "     correct_prediction_no_patch  sign_width  sign_height  \\\n",
       "614                            1   60.784359    56.862732   \n",
       "130                            1    9.166687    26.388916   \n",
       "127                            1   24.666655   118.000000   \n",
       "606                            1   99.215698    90.196106   \n",
       "117                            1   22.745056    25.490204   \n",
       "..                           ...         ...          ...   \n",
       "362                            1   46.999969    44.500000   \n",
       "352                            1   62.352909    56.078430   \n",
       "353                            1   35.686279    38.039246   \n",
       "354                            1   11.887549    11.566345   \n",
       "769                            1   50.476257    47.619080   \n",
       "\n",
       "     confidence_no_patch  label_patch  correct_prediction_patch  \\\n",
       "614             0.918845         14.0                         0   \n",
       "130             0.777415         14.0                         0   \n",
       "127             0.700801         14.0                         0   \n",
       "606             0.913505         14.0                         0   \n",
       "117             0.865474         14.0                         0   \n",
       "..                   ...          ...                       ...   \n",
       "362             0.933075         14.0                         1   \n",
       "352             0.911784         14.0                         1   \n",
       "353             0.905545         14.0                         1   \n",
       "354             0.760282         14.0                         1   \n",
       "769             0.907209         14.0                         1   \n",
       "\n",
       "     confidence_patch  fn  avg_sign_dim  \n",
       "614          0.238925   1     58.823545  \n",
       "130          0.345203   1     17.777802  \n",
       "127          0.130750   1     71.333327  \n",
       "606          0.240098   1     94.705902  \n",
       "117          0.295811   1     24.117630  \n",
       "..                ...  ..           ...  \n",
       "362          0.740166   0     45.749985  \n",
       "352          0.785951   0     59.215670  \n",
       "353          0.830811   0     36.862762  \n",
       "354          0.760282   0     11.726947  \n",
       "769          0.842121   0     49.047668  \n",
       "\n",
       "[702 rows x 12 columns]"
      ]
     },
     "execution_count": 85,
     "metadata": {},
     "output_type": "execute_result"
    }
   ],
   "source": [
    "# f = open('../runs/val/exp/bg_filenames.txt', 'r')\n",
    "# lines = f.readlines()\n",
    "# bg_filenames = [x.strip('\\n') for x in lines]\n",
    "# print(bg_filenames)\n",
    "\n",
    "df_results_per_label_no_patch = pd.read_csv('../runs/val/exp_mapillary_no_patch_0/results_per_label.csv')\n",
    "df_results_per_label_rp2_patch = pd.read_csv('../runs/val/exp_mapillary_rp2_patch_3/results_per_label.csv')\n",
    "\n",
    "merged_df = df_results_per_label_no_patch.merge(df_results_per_label_rp2_patch, on=['filename', 'obj_id', 'sign_width', 'sign_height'], suffixes=['_no_patch', '_patch'])\n",
    "assert len(merged_df) == len(df_results_per_label_rp2_patch) & len(merged_df) == len(df_results_per_label_no_patch)\n",
    "\n",
    "merged_df = merged_df[merged_df['correct_prediction_no_patch'] == 1]\n",
    "merged_df['fn'] = merged_df['correct_prediction_no_patch'] - merged_df['correct_prediction_patch']\n",
    "merged_df = merged_df.sort_values(by=['fn', 'filename'], ascending=[False, True])\n",
    "merged_df\n",
    "# successful_attack_filenames = set(merged_df[merged_df['change_in_fn'] > 0]['filename'])\n",
    "# len(successful_attack_filenames_2)\n",
    "\n",
    "# merged_df[merged_df['filename'].isin(bg_filenames)]\n",
    "\n",
    "merged_df['avg_sign_dim'] = (merged_df['sign_width'] + merged_df['sign_height'])/2\n",
    "merged_df"
   ]
  },
  {
   "cell_type": "code",
   "execution_count": 76,
   "metadata": {},
   "outputs": [],
   "source": [
    "# # checking results per label are correct\n",
    "# df_results_per_image = pd.read_csv('../runs/val/exp_mapillary_rp2_patch_0/results_per_image.csv')\n",
    "# print(np.sum(df_results_per_image['fn']))\n",
    "\n",
    "# print(len(df_results_per_label_rp2_patch) - np.sum(df_results_per_label_rp2_patch['correct_prediction']))\n"
   ]
  },
  {
   "cell_type": "code",
   "execution_count": 77,
   "metadata": {},
   "outputs": [
    {
     "data": {
      "text/plain": [
       "0.11208406304728546"
      ]
     },
     "execution_count": 77,
     "metadata": {},
     "output_type": "execute_result"
    }
   ],
   "source": [
    "np.sum(merged_df['fn'])/571"
   ]
  },
  {
   "cell_type": "code",
   "execution_count": 83,
   "metadata": {},
   "outputs": [
    {
     "data": {
      "text/plain": [
       "[<matplotlib.lines.Line2D at 0x7f44bbb2c580>]"
      ]
     },
     "execution_count": 83,
     "metadata": {},
     "output_type": "execute_result"
    },
    {
     "data": {
      "image/png": "[encoded data removed]",
      "text/plain": [
       "<Figure size 1080x504 with 2 Axes>"
      ]
     },
     "metadata": {
      "needs_background": "light"
     },
     "output_type": "display_data"
    }
   ],
   "source": [
    "f, ax = plt.subplots(1, 2)\n",
    "f.set_figheight(7)\n",
    "f.set_figwidth(15)\n",
    "\n",
    "sns.histplot(data=merged_df[merged_df['fn'] >= 0], x=\"avg_sign_dim\", hue='fn', bins=5, ax=ax[0])\n",
    "sns.scatterplot(x='sign_width', y='sign_height', data=merged_df[merged_df['fn'] >= 0], hue='fn', alpha=0.3, ax=ax[1])\n",
    "ax[1].plot(np.arange(0, max(merged_df[merged_df['fn'] >= 0]['sign_height'])), np.arange(0, max(merged_df[merged_df['fn'] >= 0]['sign_height'])), color='black')"
   ]
  },
  {
   "cell_type": "code",
   "execution_count": 79,
   "metadata": {},
   "outputs": [
    {
     "data": {
      "text/plain": [
       "(0.0, 1.0)"
      ]
     },
     "execution_count": 79,
     "metadata": {},
     "output_type": "execute_result"
    },
    {
     "data": {
      "image/png": "[encoded data removed]",
      "text/plain": [
       "<Figure size 1080x504 with 2 Axes>"
      ]
     },
     "metadata": {
      "needs_background": "light"
     },
     "output_type": "display_data"
    }
   ],
   "source": [
    "f, ax = plt.subplots(1, 2, sharey=True)\n",
    "f.set_figheight(7)\n",
    "f.set_figwidth(15)\n",
    "\n",
    "bins=np.arange(0, 1.01, 0.05)\n",
    "# sns.histplot(data=merged_df[merged_df['fn'] >= 0], x=\"confidence_no_patch\", ax=ax[0], bins=bins)\n",
    "# sns.histplot(data=merged_df[merged_df['fn'] >= 0], x=\"confidence_patch\", ax=ax[1], bins=bins)\n",
    "\n",
    "sns.histplot(data=merged_df, x=\"confidence_no_patch\", ax=ax[0], bins=bins)\n",
    "sns.histplot(data=merged_df, x=\"confidence_patch\", ax=ax[1], bins=bins)\n",
    "\n",
    "ax[0].set_xlim(0,1)\n",
    "ax[1].set_xlim(0,1)\n"
   ]
  },
  {
   "cell_type": "code",
   "execution_count": 80,
   "metadata": {},
   "outputs": [
    {
     "data": {
      "text/plain": [
       "0.3634558916091919"
      ]
     },
     "execution_count": 80,
     "metadata": {},
     "output_type": "execute_result"
    }
   ],
   "source": [
    "min(merged_df['confidence_no_patch'])"
   ]
  },
  {
   "cell_type": "code",
   "execution_count": 81,
   "metadata": {},
   "outputs": [
    {
     "data": {
      "text/plain": [
       "1    702\n",
       "Name: correct_prediction_no_patch, dtype: int64"
      ]
     },
     "execution_count": 81,
     "metadata": {},
     "output_type": "execute_result"
    }
   ],
   "source": [
    "merged_df['correct_prediction_no_patch'].value_counts()"
   ]
  },
  {
   "cell_type": "code",
   "execution_count": 82,
   "metadata": {},
   "outputs": [
    {
     "data": {
      "text/plain": [
       "64"
      ]
     },
     "execution_count": 82,
     "metadata": {},
     "output_type": "execute_result"
    }
   ],
   "source": [
    "successful_attack_filenames = set(merged_df[merged_df['fn'] > 0]['filename'])\n",
    "len(successful_attack_filenames)\n",
    "\n",
    "with open('../runs/successful_attack_filenames.txt', 'w') as f:\n",
    "    for line in successful_attack_filenames:\n",
    "        f.write(line)\n",
    "        f.write('\\n')\n"
   ]
  },
  {
   "cell_type": "code",
   "execution_count": null,
   "metadata": {},
   "outputs": [],
   "source": []
  }
 ],
 "metadata": {
  "interpreter": {
   "hash": "444e4357c308606907a6aa476ea86787ef42b9d90bad2f45ef86935ccdec84ae"
  },
  "kernelspec": {
   "display_name": "Python 3.8.12 64-bit ('env': conda)",
   "language": "python",
   "name": "python3"
  },
  "language_info": {
   "codemirror_mode": {
    "name": "ipython",
    "version": 3
   },
   "file_extension": ".py",
   "mimetype": "text/x-python",
   "name": "python",
   "nbconvert_exporter": "python",
   "pygments_lexer": "ipython3",
   "version": "3.8.12"
  },
  "orig_nbformat": 4
 },
 "nbformat": 4,
 "nbformat_minor": 2
}
