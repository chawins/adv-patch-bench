{
 "cells": [
  {
   "cell_type": "code",
   "execution_count": null,
   "metadata": {},
   "outputs": [],
   "source": [
    "import pandas as pd\n",
    "import numpy as np\n",
    "import os\n",
    "import matplotlib.pyplot as plt\n",
    "import json\n",
    "import seaborn as sns"
   ]
  },
  {
   "cell_type": "code",
   "execution_count": null,
   "metadata": {},
   "outputs": [],
   "source": [
    "df = pd.read_csv('../runs/results_.csv')\n",
    "df = df.replace({'apply_patch': 'True', 'random_patch': 'True'}, 1)\n",
    "df = df.replace({'apply_patch': 'False', 'random_patch': 'False'}, 0)\n",
    "df['apply_patch'] = df['apply_patch'].astype(float).astype(bool)\n",
    "df['random_patch'] = df['random_patch'].astype(float).astype(bool)\n",
    "df.head(6)"
   ]
  },
  {
   "cell_type": "code",
   "execution_count": null,
   "metadata": {},
   "outputs": [],
   "source": [
    "df['apply_patch_and_random_patch'] = list(zip(df['apply_patch'], df['random_patch']))\n",
    "order_list = [(False, False), (True, True), (True, False)]\n",
    "\n",
    "fig, axes = plt.subplots(1, 4, figsize=(20, 5), squeeze=False)\n",
    "axes[0, 0].set_title('mapillary mAP@0.5')\n",
    "axes[0, 1].set_title('mapillary synthetic sign AP@0.5')\n",
    "axes[0, 2].set_title('mapillary synthetic sign AP@0.5:0.95')\n",
    "axes[0, 3].set_title('mapillary blue circle AP@0.5')\n",
    "\n",
    "axes[0, 0].set_yticks(ticks=np.arange(0, 1, 0.05))\n",
    "axes[0, 1].set_yticks(ticks=np.arange(0, 1, 0.05))\n",
    "axes[0, 2].set_yticks(ticks=np.arange(0, 1, 0.05))\n",
    "axes[0, 3].set_yticks(ticks=np.arange(0, 1, 0.05))\n",
    "\n",
    "sns.barplot(x=\"apply_patch_and_random_patch\", y=\"map_50_all\", data=df[df['dataset']=='mapillary'], ax=axes[0, 0], order=order_list)\n",
    "sns.barplot(x=\"apply_patch_and_random_patch\", y=\"ap_50_synthetic_stop_sign\", data=df[df['dataset']=='mapillary'], ax=axes[0, 1], order=order_list)\n",
    "sns.barplot(x=\"apply_patch_and_random_patch\", y=\"ap_50_95_synthetic_stop_sign\", data=df[df['dataset']=='mapillary'], ax=axes[0, 2], order=order_list)\n",
    "sns.barplot(x=\"apply_patch_and_random_patch\", y=\"ap_50_circle-blue\", data=df[df['dataset']=='mapillary'], ax=axes[0, 3], order=order_list)\n",
    "\n",
    "\n",
    "# axes[1, 0].set_title('mtsd mAP@0.5')\n",
    "# axes[1, 1].set_title('mtsd synthetic sign AP@0.5')\n",
    "# axes[1, 2].set_title('mtsd synthetic sign AP@0.5:0.95')\n",
    "# sns.barplot(x=\"apply_patch_and_random_patch\", y=\"map_50_all\", data=df[df['dataset']=='mtsd'], ax=axes[1, 0], order=order_list)\n",
    "# sns.barplot(x=\"apply_patch_and_random_patch\", y=\"ap_50_synthetic_stop_sign\", data=df[df['dataset']=='mtsd'], ax=axes[1, 1], order=order_list)\n",
    "# sns.barplot(x=\"apply_patch_and_random_patch\", y=\"ap_50_95_synthetic_stop_sign\", data=df[df['dataset']=='mtsd'], ax=axes[1, 2], order=order_list)\n"
   ]
  },
  {
   "cell_type": "code",
   "execution_count": null,
   "metadata": {},
   "outputs": [],
   "source": []
  },
  {
   "cell_type": "code",
   "execution_count": null,
   "metadata": {},
   "outputs": [],
   "source": []
  }
 ],
 "metadata": {
  "interpreter": {
   "hash": "444e4357c308606907a6aa476ea86787ef42b9d90bad2f45ef86935ccdec84ae"
  },
  "kernelspec": {
   "display_name": "Python 3.8.12 64-bit ('env': conda)",
   "language": "python",
   "name": "python3"
  },
  "language_info": {
   "codemirror_mode": {
    "name": "ipython",
    "version": 3
   },
   "file_extension": ".py",
   "mimetype": "text/x-python",
   "name": "python",
   "nbconvert_exporter": "python",
   "pygments_lexer": "ipython3",
   "version": "3.8.12"
  },
  "orig_nbformat": 4
 },
 "nbformat": 4,
 "nbformat_minor": 2
}
